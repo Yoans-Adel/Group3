{
  "nbformat": 4,
  "nbformat_minor": 0,
  "metadata": {
    "colab": {
      "provenance": [],
      "toc_visible": true,
      "collapsed_sections": [
        "C7KRIcKfz9Cq",
        "giywpqTIdWMq",
        "_51p1UINektO",
        "FgvcwUMpe4Vz"
      ],
      "include_colab_link": true
    },
    "kernelspec": {
      "name": "python3",
      "display_name": "Python 3"
    },
    "language_info": {
      "name": "python"
    }
  },
  "cells": [
    {
      "cell_type": "markdown",
      "metadata": {
        "id": "view-in-github",
        "colab_type": "text"
      },
      "source": [
        "<a href=\"https://colab.research.google.com/github/Yoans-Adel/Group3/blob/main/Group3.ipynb\" target=\"_parent\"><img src=\"https://colab.research.google.com/assets/colab-badge.svg\" alt=\"Open In Colab\"/></a>"
      ]
    },
    {
      "cell_type": "markdown",
      "source": [
        ">Many diseases such as cancer, tumors, and pneumonia are detected using computer-aided diagnosis with the help of AI models.\n",
        "This project focuses on disease prediction using a Brain Tumors Images dataset.\n",
        "It consists of two types of labbeled categories:\n",
        ">1. **Meningioma (Menin)**\n",
        ">2. **Glioma**"
      ],
      "metadata": {
        "id": "dh9U11PDgiWd"
      }
    },
    {
      "cell_type": "markdown",
      "source": [
        "# Data Preprocessing and Visualization"
      ],
      "metadata": {
        "id": "C7KRIcKfz9Cq"
      }
    },
    {
      "cell_type": "markdown",
      "source": [
        "## Load Brain Tumors Images Dataset"
      ],
      "metadata": {
        "id": "4y7WNBjCbtCz"
      }
    },
    {
      "cell_type": "code",
      "source": [],
      "metadata": {
        "id": "HsgL11sDf39f"
      },
      "execution_count": null,
      "outputs": []
    },
    {
      "cell_type": "markdown",
      "source": [
        "## Data Preprocessing\n"
      ],
      "metadata": {
        "id": "Q9ig5Iajb3vF"
      }
    },
    {
      "cell_type": "code",
      "source": [],
      "metadata": {
        "id": "ZdLY3uGrf3Zx"
      },
      "execution_count": null,
      "outputs": []
    },
    {
      "cell_type": "markdown",
      "source": [
        "## Data Visualization"
      ],
      "metadata": {
        "id": "vdDAkBcec1iv"
      }
    },
    {
      "cell_type": "code",
      "source": [],
      "metadata": {
        "id": "WPtj2oWif3EK"
      },
      "execution_count": null,
      "outputs": []
    },
    {
      "cell_type": "markdown",
      "source": [
        "# Model 1: MobileNet\n"
      ],
      "metadata": {
        "id": "giywpqTIdWMq"
      }
    },
    {
      "cell_type": "markdown",
      "source": [
        "## Build MobileNet Model"
      ],
      "metadata": {
        "id": "RRvdm8uMdrcO"
      }
    },
    {
      "cell_type": "code",
      "source": [],
      "metadata": {
        "id": "Ask0xhnof2JX"
      },
      "execution_count": null,
      "outputs": []
    },
    {
      "cell_type": "markdown",
      "source": [
        "## Train and save MobileNet Model"
      ],
      "metadata": {
        "id": "dsyjJ-0Yd07O"
      }
    },
    {
      "cell_type": "code",
      "source": [],
      "metadata": {
        "id": "OdmUCEJUf1ty"
      },
      "execution_count": null,
      "outputs": []
    },
    {
      "cell_type": "markdown",
      "source": [
        "# Model 2: ResNet\n"
      ],
      "metadata": {
        "id": "_51p1UINektO"
      }
    },
    {
      "cell_type": "markdown",
      "source": [
        "## Build ResNet Model"
      ],
      "metadata": {
        "id": "mbqQLlHJektP"
      }
    },
    {
      "cell_type": "code",
      "source": [],
      "metadata": {
        "id": "S9AdNM0Cf0mQ"
      },
      "execution_count": null,
      "outputs": []
    },
    {
      "cell_type": "markdown",
      "source": [
        "## Train and save ResNet Model"
      ],
      "metadata": {
        "id": "H7hRZwRIektP"
      }
    },
    {
      "cell_type": "code",
      "source": [],
      "metadata": {
        "id": "hLvV4YiGfzOV"
      },
      "execution_count": null,
      "outputs": []
    },
    {
      "cell_type": "markdown",
      "source": [
        "# Evaluation and Results"
      ],
      "metadata": {
        "id": "FgvcwUMpe4Vz"
      }
    },
    {
      "cell_type": "markdown",
      "source": [
        "## Evaluating MobileNet and ResNet\n"
      ],
      "metadata": {
        "id": "ujpducDXeI3d"
      }
    },
    {
      "cell_type": "code",
      "source": [],
      "metadata": {
        "id": "BXHW9DLwfuO8"
      },
      "execution_count": null,
      "outputs": []
    },
    {
      "cell_type": "markdown",
      "source": [
        "## Comparing Results"
      ],
      "metadata": {
        "id": "RYt_1Zy4fWzN"
      }
    },
    {
      "cell_type": "code",
      "source": [],
      "metadata": {
        "id": "0x54pzvYftyH"
      },
      "execution_count": null,
      "outputs": []
    },
    {
      "cell_type": "markdown",
      "source": [
        "## Visualization"
      ],
      "metadata": {
        "id": "tX2h6lbCfagx"
      }
    },
    {
      "cell_type": "code",
      "source": [],
      "metadata": {
        "id": "QiPW4YEtftXm"
      },
      "execution_count": null,
      "outputs": []
    }
  ]
}